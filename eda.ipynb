{
  "nbformat": 4,
  "nbformat_minor": 0,
  "metadata": {
    "colab": {
      "provenance": [],
      "mount_file_id": "1aIoqF0_aiRAxBQEYQGxgll674RHtMdfa",
      "authorship_tag": "ABX9TyMQh/PXa6woZrcsIaq8b0k6",
      "include_colab_link": true
    },
    "kernelspec": {
      "name": "python3",
      "display_name": "Python 3"
    },
    "language_info": {
      "name": "python"
    }
  },
  "cells": [
    {
      "cell_type": "markdown",
      "metadata": {
        "id": "view-in-github",
        "colab_type": "text"
      },
      "source": [
        "<a href=\"https://colab.research.google.com/github/Veejay95/Hello-world/blob/main/eda.ipynb\" target=\"_parent\"><img src=\"https://colab.research.google.com/assets/colab-badge.svg\" alt=\"Open In Colab\"/></a>"
      ]
    },
    {
      "cell_type": "markdown",
      "source": [
        "# **DATA PROCESSING**"
      ],
      "metadata": {
        "id": "eQW5NtjBZv08"
      }
    },
    {
      "cell_type": "code",
      "source": [
        "#importing necessary modules\n",
        "import pandas as pd\n",
        "import numpy as np\n",
        "\n",
        "df = pd.read_csv (\"/content/drive/MyDrive/data.csv\")\n",
        "print(df.head())\n",
        "\n",
        "df.shape\n",
        "print(df.isnull().sum())\n",
        "\n",
        "print(df)\n",
        "\n",
        "#Mean - missed value for FertilityRate\n",
        "df[\"FertilityRate\"] = df[\"FertilityRate\"].replace(np.NaN, df[\"FertilityRate\"].mean())\n",
        "df[\"FertilityRate\"] = df[\"FertilityRate\"].round(2)\n",
        "print(df[\"FertilityRate\"][:10])\n",
        "\n",
        "#Mean - missed value for CellularSubscribers\n",
        "df[\"CellularSubscribers\"] = df[\"CellularSubscribers\"].replace(np.NaN, df[\"CellularSubscribers\"].mean())\n",
        "df[\"CellularSubscribers\"] = df[\"CellularSubscribers\"].round(2)\n",
        "print(df[\"CellularSubscribers\"][:10])\n",
        "\n",
        "#Mean - missed value for LiteracyRate\n",
        "df[\"LiteracyRate\"] = df[\"LiteracyRate\"].replace(np.NaN, df[\"LiteracyRate\"].mean())\n",
        "df[\"LiteracyRate\"] = df[\"LiteracyRate\"].round(2)\n",
        "print(df[\"LiteracyRate\"][:10])\n",
        "\n",
        "#Mean - missed value GNI\n",
        "df[\"GNI\"] = df[\"GNI\"].replace(np.NaN, df[\"GNI\"].mean())\n",
        "df = df.astype({\"GNI\":\"int\"})\n",
        "print(df[\"GNI\"][:])\n",
        "\n",
        "#Mode - missed value PrimarySchoolEnrollmentMale\n",
        "import statistics\n",
        "df[\"PrimarySchoolEnrollmentMale\"] = df[\"PrimarySchoolEnrollmentMale\"].replace(np.NaN, statistics.mode(df[\"PrimarySchoolEnrollmentMale\"]))\n",
        "print(df[\"PrimarySchoolEnrollmentMale\"][:10])\n",
        "\n",
        "#Mode - missed valuePrimarySchoolEnrollmentFemale\n",
        "import statistics\n",
        "df[\"PrimarySchoolEnrollmentFemale\"] = df[\"PrimarySchoolEnrollmentFemale\"].replace(np.NaN, statistics.mode(df[\"PrimarySchoolEnrollmentFemale\"]))\n",
        "print(df[\"PrimarySchoolEnrollmentFemale\"][:10])\n",
        "print(df.head())\n",
        "\n",
        "health_and_demographics_df = df\n",
        "df.to_csv('health_and_demographics_df.csv', index=True,na_rep='NA')\n",
        "\n"
      ],
      "metadata": {
        "id": "Rs3odT1bdhYN"
      },
      "execution_count": null,
      "outputs": []
    },
    {
      "cell_type": "markdown",
      "source": [
        "## **`Exploratory`**"
      ],
      "metadata": {
        "id": "F1VzXuUmhRc2"
      }
    },
    {
      "cell_type": "markdown",
      "source": [
        " country_with_lowest_population_percentage_under_15"
      ],
      "metadata": {
        "id": "B4ndaNXy-mKU"
      }
    },
    {
      "cell_type": "code",
      "source": [
        "#country_with_lowest_population_percentage_under_15\n",
        "df = pd.read_csv (\"/content/health_and_demographics_df.csv\")\n",
        "country_with_lowest_population_percentage_under_15 = df\n",
        "country_with_lowest_population_percentage_under_15.info()\n",
        "country_with_lowest_population_percentage_under_15.describe()\n",
        "country_with_lowest_population_percentage_under_15.groupby(\"Country\").min().sort_values(by=\"Under15\", ascending = True)\n",
        "\n",
        "# answer is  Japan with 13.12\n",
        "\n",
        "\n"
      ],
      "metadata": {
        "id": "jSG_uLeG9iVd"
      },
      "execution_count": null,
      "outputs": []
    },
    {
      "cell_type": "markdown",
      "source": [
        "country_with_highest_population_percentage_under_15"
      ],
      "metadata": {
        "id": "48dQL1e9-tTf"
      }
    },
    {
      "cell_type": "code",
      "source": [
        "#country_with_highest_population_percentage_under_15\n",
        "df = pd.read_csv (\"/content/health_and_demographics_df.csv\")\n",
        "country_with_highest_population_percentage_under_15  = df\n",
        "country_with_highest_population_percentage_under_15 .info()\n",
        "country_with_highest_population_percentage_under_15.describe()\n",
        "country_with_highest_population_percentage_under_15 .groupby(\"Country\").max().sort_values(by=\"Under15\", ascending = False)\n",
        "#answer is Niger with 49.99\n",
        "\n"
      ],
      "metadata": {
        "id": "FQ_SuNPOhXmh"
      },
      "execution_count": null,
      "outputs": []
    },
    {
      "cell_type": "markdown",
      "source": [
        "**region_with_highest_population_percentage_over_60**\n"
      ],
      "metadata": {
        "id": "spDrfcxA-9yn"
      }
    },
    {
      "cell_type": "code",
      "source": [
        "#region_with_highest_population_percentage_over_60\n",
        "df = pd.read_csv (\"/content/health_and_demographics_df.csv\")\n",
        "region_with_highest_population_percentage_over_60  = df\n",
        "region_with_highest_population_percentage_over_60 .groupby(\"Over60\").max().sort_values(by=\"Region\", ascending = False)\n",
        "#region_with_highest_population_percentage_over_60 is Werstern Pacific Japan with31.92"
      ],
      "metadata": {
        "id": "DStGjZu6-3D4"
      },
      "execution_count": null,
      "outputs": []
    },
    {
      "cell_type": "markdown",
      "source": [
        "Does fertility decrease as income increases? Create a suitable plot to visualise the relationship. Are there any countries that don’t seem to follow this relation?"
      ],
      "metadata": {
        "id": "d_HRU59P_KNV"
      }
    },
    {
      "cell_type": "code",
      "source": [
        "# I created two bar graphs to compare GNI With\n",
        "\n",
        "#GRAPH 1\n",
        "import pandas as pd\n",
        "import seaborn as sns\n",
        "import numpy as np\n",
        "\n",
        "df = pd.read_csv (\"/content/health_and_demographics_df.csv\")\n",
        "\n",
        "p = df.groupby(['Region'])['GNI'].mean('count')\n",
        "p.plot(y= 'GNI', kind='bar', legend= True, title= 'Gni per region')\n",
        "\n",
        "exit()\n",
        "\n",
        "\n",
        "\n",
        "\n",
        "\n",
        "\n",
        "\n"
      ],
      "metadata": {
        "id": "E1JalJ8c1-EB",
        "colab": {
          "base_uri": "https://localhost:8080/",
          "height": 617
        },
        "outputId": "f31fc0b2-a5ec-448f-ebb8-ec4675d019b5"
      },
      "execution_count": null,
      "outputs": [
        {
          "output_type": "display_data",
          "data": {
            "text/plain": [
              "<Figure size 640x480 with 1 Axes>"
            ],
            "image/png": "[encoded data removed]"
          },
          "metadata": {}
        }
      ]
    },
    {
      "cell_type": "code",
      "source": [
        "import pandas as pd\n",
        "import seaborn as sns\n",
        "import numpy as np\n",
        "\n",
        "df = pd.read_csv (\"/content/health_and_demographics_df.csv\")\n",
        "\n",
        "p = df.groupby(['Region'])['FertilityRate'].mean('count')\n",
        "p.plot(y= 'FertilityRate', kind='bar', legend= True, title= 'Fetility per region')"
      ],
      "metadata": {
        "colab": {
          "base_uri": "https://localhost:8080/",
          "height": 634
        },
        "id": "wZR64gR-EUpa",
        "outputId": "ce848766-2f1f-4858-a937-1f3f09514e3f"
      },
      "execution_count": null,
      "outputs": [
        {
          "output_type": "execute_result",
          "data": {
            "text/plain": [
              "<Axes: title={'center': 'Fetility per region'}, xlabel='Region'>"
            ]
          },
          "metadata": {},
          "execution_count": 1
        },
        {
          "output_type": "display_data",
          "data": {
            "text/plain": [
              "<Figure size 640x480 with 1 Axes>"
            ],
            "image/png": "[encoded data removed]"
          },
          "metadata": {}
        }
      ]
    },
    {
      "cell_type": "markdown",
      "source": [
        "regional_literacy_ascending_order."
      ],
      "metadata": {
        "id": "7obDb6uW_Pqo"
      }
    },
    {
      "cell_type": "code",
      "source": [
        "#regional_literacy_ascending_order.\n",
        "df = pd.read_csv (\"/content/health_and_demographics_df.csv\")\n",
        "regional_literacy_ascending_order = df\n",
        "regional_literacy_ascending_order.sort_values(by = \"LiteracyRate\", ascending = True)\n"
      ],
      "metadata": {
        "id": "iDUj5dJQJ3aF"
      },
      "execution_count": null,
      "outputs": []
    },
    {
      "cell_type": "markdown",
      "source": [
        "regional_child_mortality_ascending_order."
      ],
      "metadata": {
        "id": "ZAh3a5Xx_UK-"
      }
    },
    {
      "cell_type": "code",
      "source": [
        "#regional_child_mortality_ascending_order.\n",
        "df = pd.read_csv (\"/content/health_and_demographics_df.csv\")\n",
        "regional_child_mortality_ascending_order = df\n",
        "regional_child_mortality_ascending_order.sort_values(by = \"ChildMortality\", ascending = True)\n",
        "\n"
      ],
      "metadata": {
        "id": "srXuT_Bmh_Uj",
        "colab": {
          "base_uri": "https://localhost:8080/",
          "height": 530
        },
        "outputId": "22647e27-e5ee-44db-a1ea-de6bd04cf2ba"
      },
      "execution_count": null,
      "outputs": [
        {
          "output_type": "execute_result",
          "data": {
            "text/plain": [
              "     Unnamed: 0                           Country                 Region  \\\n",
              "99           99                        Luxembourg                 Europe   \n",
              "76           76                           Iceland                 Europe   \n",
              "126         126                            Norway                 Europe   \n",
              "60           60                           Finland                 Europe   \n",
              "166         166                            Sweden                 Europe   \n",
              "..          ...                               ...                    ...   \n",
              "47           47  Democratic Republic of the Congo                 Africa   \n",
              "158         158                           Somalia  Eastern Mediterranean   \n",
              "33           33                              Chad                 Africa   \n",
              "4             4                            Angola                 Africa   \n",
              "153         153                      Sierra Leone                 Africa   \n",
              "\n",
              "     Population  Under15  Over60  FertilityRate  LifeExpectancy  \\\n",
              "99          524    17.46   19.15           1.65              82   \n",
              "76          326    20.71   17.62           2.11              82   \n",
              "126        4994    18.64   21.41           1.93              81   \n",
              "60         5408    16.42   25.90           1.85              81   \n",
              "166        9511    16.71   25.32           1.93              82   \n",
              "..          ...      ...     ...            ...             ...   \n",
              "47        65705    45.11    4.51           6.15              49   \n",
              "158       10195    47.35    4.46           6.77              50   \n",
              "33        12448    48.52    3.80           6.49              51   \n",
              "4         20821    47.58    3.84           6.10              51   \n",
              "153        5979    41.74    4.41           4.86              47   \n",
              "\n",
              "     ChildMortality  CellularSubscribers  LiteracyRate    GNI  \\\n",
              "99              2.2               148.27         83.71  64260   \n",
              "76              2.3               106.08         83.71  31020   \n",
              "126             2.8               115.62         83.71  61460   \n",
              "60              2.9               166.02         83.71  37670   \n",
              "166             2.9               118.57         83.71  42200   \n",
              "..              ...                  ...           ...    ...   \n",
              "47            145.7                23.09         66.80    340   \n",
              "158           147.4                 6.85         83.71  13320   \n",
              "33            149.8                31.80         34.50   1360   \n",
              "4             163.5                48.38         70.10   5230   \n",
              "153           181.6                35.63         42.10    840   \n",
              "\n",
              "     PrimarySchoolEnrollmentMale  PrimarySchoolEnrollmentFemale  \n",
              "99                          93.6                           95.7  \n",
              "76                          98.8                           99.2  \n",
              "126                         99.1                           99.2  \n",
              "60                          97.7                           97.9  \n",
              "166                         99.7                           99.0  \n",
              "..                           ...                            ...  \n",
              "47                          99.1                           99.2  \n",
              "158                         99.1                           99.2  \n",
              "33                          99.1                           99.2  \n",
              "4                           93.1                           78.2  \n",
              "153                         99.1                           99.2  \n",
              "\n",
              "[194 rows x 14 columns]"
            ],
            "text/html": [
              "\n",
              "  <div id=\"df-1b8593ac-b6d3-48e2-8fb1-39b6bf3831df\" class=\"colab-df-container\">\n",
              "    <div>\n",
              "<style scoped>\n",
              "    .dataframe tbody tr th:only-of-type {\n",
              "        vertical-align: middle;\n",
              "    }\n",
              "\n",
              "    .dataframe tbody tr th {\n",
              "        vertical-align: top;\n",
              "    }\n",
              "\n",
              "    .dataframe thead th {\n",
              "        text-align: right;\n",
              "    }\n",
              "</style>\n",
              "<table border=\"1\" class=\"dataframe\">\n",
              "  <thead>\n",
              "    <tr style=\"text-align: right;\">\n",
              "      <th></th>\n",
              "      <th>Unnamed: 0</th>\n",
              "      <th>Country</th>\n",
              "      <th>Region</th>\n",
              "      <th>Population</th>\n",
              "      <th>Under15</th>\n",
              "      <th>Over60</th>\n",
              "      <th>FertilityRate</th>\n",
              "      <th>LifeExpectancy</th>\n",
              "      <th>ChildMortality</th>\n",
              "      <th>CellularSubscribers</th>\n",
              "      <th>LiteracyRate</th>\n",
              "      <th>GNI</th>\n",
              "      <th>PrimarySchoolEnrollmentMale</th>\n",
              "      <th>PrimarySchoolEnrollmentFemale</th>\n",
              "    </tr>\n",
              "  </thead>\n",
              "  <tbody>\n",
              "    <tr>\n",
              "      <th>99</th>\n",
              "      <td>99</td>\n",
              "      <td>Luxembourg</td>\n",
              "      <td>Europe</td>\n",
              "      <td>524</td>\n",
              "      <td>17.46</td>\n",
              "      <td>19.15</td>\n",
              "      <td>1.65</td>\n",
              "      <td>82</td>\n",
              "      <td>2.2</td>\n",
              "      <td>148.27</td>\n",
              "      <td>83.71</td>\n",
              "      <td>64260</td>\n",
              "      <td>93.6</td>\n",
              "      <td>95.7</td>\n",
              "    </tr>\n",
              "    <tr>\n",
              "      <th>76</th>\n",
              "      <td>76</td>\n",
              "      <td>Iceland</td>\n",
              "      <td>Europe</td>\n",
              "      <td>326</td>\n",
              "      <td>20.71</td>\n",
              "      <td>17.62</td>\n",
              "      <td>2.11</td>\n",
              "      <td>82</td>\n",
              "      <td>2.3</td>\n",
              "      <td>106.08</td>\n",
              "      <td>83.71</td>\n",
              "      <td>31020</td>\n",
              "      <td>98.8</td>\n",
              "      <td>99.2</td>\n",
              "    </tr>\n",
              "    <tr>\n",
              "      <th>126</th>\n",
              "      <td>126</td>\n",
              "      <td>Norway</td>\n",
              "      <td>Europe</td>\n",
              "      <td>4994</td>\n",
              "      <td>18.64</td>\n",
              "      <td>21.41</td>\n",
              "      <td>1.93</td>\n",
              "      <td>81</td>\n",
              "      <td>2.8</td>\n",
              "      <td>115.62</td>\n",
              "      <td>83.71</td>\n",
              "      <td>61460</td>\n",
              "      <td>99.1</td>\n",
              "      <td>99.2</td>\n",
              "    </tr>\n",
              "    <tr>\n",
              "      <th>60</th>\n",
              "      <td>60</td>\n",
              "      <td>Finland</td>\n",
              "      <td>Europe</td>\n",
              "      <td>5408</td>\n",
              "      <td>16.42</td>\n",
              "      <td>25.90</td>\n",
              "      <td>1.85</td>\n",
              "      <td>81</td>\n",
              "      <td>2.9</td>\n",
              "      <td>166.02</td>\n",
              "      <td>83.71</td>\n",
              "      <td>37670</td>\n",
              "      <td>97.7</td>\n",
              "      <td>97.9</td>\n",
              "    </tr>\n",
              "    <tr>\n",
              "      <th>166</th>\n",
              "      <td>166</td>\n",
              "      <td>Sweden</td>\n",
              "      <td>Europe</td>\n",
              "      <td>9511</td>\n",
              "      <td>16.71</td>\n",
              "      <td>25.32</td>\n",
              "      <td>1.93</td>\n",
              "      <td>82</td>\n",
              "      <td>2.9</td>\n",
              "      <td>118.57</td>\n",
              "      <td>83.71</td>\n",
              "      <td>42200</td>\n",
              "      <td>99.7</td>\n",
              "      <td>99.0</td>\n",
              "    </tr>\n",
              "    <tr>\n",
              "      <th>...</th>\n",
              "      <td>...</td>\n",
              "      <td>...</td>\n",
              "      <td>...</td>\n",
              "      <td>...</td>\n",
              "      <td>...</td>\n",
              "      <td>...</td>\n",
              "      <td>...</td>\n",
              "      <td>...</td>\n",
              "      <td>...</td>\n",
              "      <td>...</td>\n",
              "      <td>...</td>\n",
              "      <td>...</td>\n",
              "      <td>...</td>\n",
              "      <td>...</td>\n",
              "    </tr>\n",
              "    <tr>\n",
              "      <th>47</th>\n",
              "      <td>47</td>\n",
              "      <td>Democratic Republic of the Congo</td>\n",
              "      <td>Africa</td>\n",
              "      <td>65705</td>\n",
              "      <td>45.11</td>\n",
              "      <td>4.51</td>\n",
              "      <td>6.15</td>\n",
              "      <td>49</td>\n",
              "      <td>145.7</td>\n",
              "      <td>23.09</td>\n",
              "      <td>66.80</td>\n",
              "      <td>340</td>\n",
              "      <td>99.1</td>\n",
              "      <td>99.2</td>\n",
              "    </tr>\n",
              "    <tr>\n",
              "      <th>158</th>\n",
              "      <td>158</td>\n",
              "      <td>Somalia</td>\n",
              "      <td>Eastern Mediterranean</td>\n",
              "      <td>10195</td>\n",
              "      <td>47.35</td>\n",
              "      <td>4.46</td>\n",
              "      <td>6.77</td>\n",
              "      <td>50</td>\n",
              "      <td>147.4</td>\n",
              "      <td>6.85</td>\n",
              "      <td>83.71</td>\n",
              "      <td>13320</td>\n",
              "      <td>99.1</td>\n",
              "      <td>99.2</td>\n",
              "    </tr>\n",
              "    <tr>\n",
              "      <th>33</th>\n",
              "      <td>33</td>\n",
              "      <td>Chad</td>\n",
              "      <td>Africa</td>\n",
              "      <td>12448</td>\n",
              "      <td>48.52</td>\n",
              "      <td>3.80</td>\n",
              "      <td>6.49</td>\n",
              "      <td>51</td>\n",
              "      <td>149.8</td>\n",
              "      <td>31.80</td>\n",
              "      <td>34.50</td>\n",
              "      <td>1360</td>\n",
              "      <td>99.1</td>\n",
              "      <td>99.2</td>\n",
              "    </tr>\n",
              "    <tr>\n",
              "      <th>4</th>\n",
              "      <td>4</td>\n",
              "      <td>Angola</td>\n",
              "      <td>Africa</td>\n",
              "      <td>20821</td>\n",
              "      <td>47.58</td>\n",
              "      <td>3.84</td>\n",
              "      <td>6.10</td>\n",
              "      <td>51</td>\n",
              "      <td>163.5</td>\n",
              "      <td>48.38</td>\n",
              "      <td>70.10</td>\n",
              "      <td>5230</td>\n",
              "      <td>93.1</td>\n",
              "      <td>78.2</td>\n",
              "    </tr>\n",
              "    <tr>\n",
              "      <th>153</th>\n",
              "      <td>153</td>\n",
              "      <td>Sierra Leone</td>\n",
              "      <td>Africa</td>\n",
              "      <td>5979</td>\n",
              "      <td>41.74</td>\n",
              "      <td>4.41</td>\n",
              "      <td>4.86</td>\n",
              "      <td>47</td>\n",
              "      <td>181.6</td>\n",
              "      <td>35.63</td>\n",
              "      <td>42.10</td>\n",
              "      <td>840</td>\n",
              "      <td>99.1</td>\n",
              "      <td>99.2</td>\n",
              "    </tr>\n",
              "  </tbody>\n",
              "</table>\n",
              "<p>194 rows × 14 columns</p>\n",
              "</div>\n",
              "    <div class=\"colab-df-buttons\">\n",
              "\n",
              "  <div class=\"colab-df-container\">\n",
              "    <button class=\"colab-df-convert\" onclick=\"convertToInteractive('df-1b8593ac-b6d3-48e2-8fb1-39b6bf3831df')\"\n",
              "            title=\"Convert this dataframe to an interactive table.\"\n",
              "            style=\"display:none;\">\n",
              "\n",
              "  <svg xmlns=\"http://www.w3.org/2000/svg\" height=\"24px\" viewBox=\"0 -960 960 960\">\n",
              "    <path d=\"M120-120v-720h720v720H120Zm60-500h600v-160H180v160Zm220 220h160v-160H400v160Zm0 220h160v-160H400v160ZM180-400h160v-160H180v160Zm440 0h160v-160H620v160ZM180-180h160v-160H180v160Zm440 0h160v-160H620v160Z\"/>\n",
              "  </svg>\n",
              "    </button>\n",
              "\n",
              "  <style>\n",
              "    .colab-df-container {\n",
              "      display:flex;\n",
              "      gap: 12px;\n",
              "    }\n",
              "\n",
              "    .colab-df-convert {\n",
              "      background-color: #E8F0FE;\n",
              "      border: none;\n",
              "      border-radius: 50%;\n",
              "      cursor: pointer;\n",
              "      display: none;\n",
              "      fill: #1967D2;\n",
              "      height: 32px;\n",
              "      padding: 0 0 0 0;\n",
              "      width: 32px;\n",
              "    }\n",
              "\n",
              "    .colab-df-convert:hover {\n",
              "      background-color: #E2EBFA;\n",
              "      box-shadow: 0px 1px 2px rgba(60, 64, 67, 0.3), 0px 1px 3px 1px rgba(60, 64, 67, 0.15);\n",
              "      fill: #174EA6;\n",
              "    }\n",
              "\n",
              "    .colab-df-buttons div {\n",
              "      margin-bottom: 4px;\n",
              "    }\n",
              "\n",
              "    [theme=dark] .colab-df-convert {\n",
              "      background-color: #3B4455;\n",
              "      fill: #D2E3FC;\n",
              "    }\n",
              "\n",
              "    [theme=dark] .colab-df-convert:hover {\n",
              "      background-color: #434B5C;\n",
              "      box-shadow: 0px 1px 3px 1px rgba(0, 0, 0, 0.15);\n",
              "      filter: drop-shadow(0px 1px 2px rgba(0, 0, 0, 0.3));\n",
              "      fill: #FFFFFF;\n",
              "    }\n",
              "  </style>\n",
              "\n",
              "    <script>\n",
              "      const buttonEl =\n",
              "        document.querySelector('#df-1b8593ac-b6d3-48e2-8fb1-39b6bf3831df button.colab-df-convert');\n",
              "      buttonEl.style.display =\n",
              "        google.colab.kernel.accessAllowed ? 'block' : 'none';\n",
              "\n",
              "      async function convertToInteractive(key) {\n",
              "        const element = document.querySelector('#df-1b8593ac-b6d3-48e2-8fb1-39b6bf3831df');\n",
              "        const dataTable =\n",
              "          await google.colab.kernel.invokeFunction('convertToInteractive',\n",
              "                                                    [key], {});\n",
              "        if (!dataTable) return;\n",
              "\n",
              "        const docLinkHtml = 'Like what you see? Visit the ' +\n",
              "          '<a target=\"_blank\" href=https://colab.research.google.com/notebooks/data_table.ipynb>data table notebook</a>'\n",
              "          + ' to learn more about interactive tables.';\n",
              "        element.innerHTML = '';\n",
              "        dataTable['output_type'] = 'display_data';\n",
              "        await google.colab.output.renderOutput(dataTable, element);\n",
              "        const docLink = document.createElement('div');\n",
              "        docLink.innerHTML = docLinkHtml;\n",
              "        element.appendChild(docLink);\n",
              "      }\n",
              "    </script>\n",
              "  </div>\n",
              "\n",
              "\n",
              "<div id=\"df-7922f51d-4eef-4e57-9fb6-adcaf9393a8e\">\n",
              "  <button class=\"colab-df-quickchart\" onclick=\"quickchart('df-7922f51d-4eef-4e57-9fb6-adcaf9393a8e')\"\n",
              "            title=\"Suggest charts\"\n",
              "            style=\"display:none;\">\n",
              "\n",
              "<svg xmlns=\"http://www.w3.org/2000/svg\" height=\"24px\"viewBox=\"0 0 24 24\"\n",
              "     width=\"24px\">\n",
              "    <g>\n",
              "        <path d=\"M19 3H5c-1.1 0-2 .9-2 2v14c0 1.1.9 2 2 2h14c1.1 0 2-.9 2-2V5c0-1.1-.9-2-2-2zM9 17H7v-7h2v7zm4 0h-2V7h2v10zm4 0h-2v-4h2v4z\"/>\n",
              "    </g>\n",
              "</svg>\n",
              "  </button>\n",
              "\n",
              "<style>\n",
              "  .colab-df-quickchart {\n",
              "      --bg-color: #E8F0FE;\n",
              "      --fill-color: #1967D2;\n",
              "      --hover-bg-color: #E2EBFA;\n",
              "      --hover-fill-color: #174EA6;\n",
              "      --disabled-fill-color: #AAA;\n",
              "      --disabled-bg-color: #DDD;\n",
              "  }\n",
              "\n",
              "  [theme=dark] .colab-df-quickchart {\n",
              "      --bg-color: #3B4455;\n",
              "      --fill-color: #D2E3FC;\n",
              "      --hover-bg-color: #434B5C;\n",
              "      --hover-fill-color: #FFFFFF;\n",
              "      --disabled-bg-color: #3B4455;\n",
              "      --disabled-fill-color: #666;\n",
              "  }\n",
              "\n",
              "  .colab-df-quickchart {\n",
              "    background-color: var(--bg-color);\n",
              "    border: none;\n",
              "    border-radius: 50%;\n",
              "    cursor: pointer;\n",
              "    display: none;\n",
              "    fill: var(--fill-color);\n",
              "    height: 32px;\n",
              "    padding: 0;\n",
              "    width: 32px;\n",
              "  }\n",
              "\n",
              "  .colab-df-quickchart:hover {\n",
              "    background-color: var(--hover-bg-color);\n",
              "    box-shadow: 0 1px 2px rgba(60, 64, 67, 0.3), 0 1px 3px 1px rgba(60, 64, 67, 0.15);\n",
              "    fill: var(--button-hover-fill-color);\n",
              "  }\n",
              "\n",
              "  .colab-df-quickchart-complete:disabled,\n",
              "  .colab-df-quickchart-complete:disabled:hover {\n",
              "    background-color: var(--disabled-bg-color);\n",
              "    fill: var(--disabled-fill-color);\n",
              "    box-shadow: none;\n",
              "  }\n",
              "\n",
              "  .colab-df-spinner {\n",
              "    border: 2px solid var(--fill-color);\n",
              "    border-color: transparent;\n",
              "    border-bottom-color: var(--fill-color);\n",
              "    animation:\n",
              "      spin 1s steps(1) infinite;\n",
              "  }\n",
              "\n",
              "  @keyframes spin {\n",
              "    0% {\n",
              "      border-color: transparent;\n",
              "      border-bottom-color: var(--fill-color);\n",
              "      border-left-color: var(--fill-color);\n",
              "    }\n",
              "    20% {\n",
              "      border-color: transparent;\n",
              "      border-left-color: var(--fill-color);\n",
              "      border-top-color: var(--fill-color);\n",
              "    }\n",
              "    30% {\n",
              "      border-color: transparent;\n",
              "      border-left-color: var(--fill-color);\n",
              "      border-top-color: var(--fill-color);\n",
              "      border-right-color: var(--fill-color);\n",
              "    }\n",
              "    40% {\n",
              "      border-color: transparent;\n",
              "      border-right-color: var(--fill-color);\n",
              "      border-top-color: var(--fill-color);\n",
              "    }\n",
              "    60% {\n",
              "      border-color: transparent;\n",
              "      border-right-color: var(--fill-color);\n",
              "    }\n",
              "    80% {\n",
              "      border-color: transparent;\n",
              "      border-right-color: var(--fill-color);\n",
              "      border-bottom-color: var(--fill-color);\n",
              "    }\n",
              "    90% {\n",
              "      border-color: transparent;\n",
              "      border-bottom-color: var(--fill-color);\n",
              "    }\n",
              "  }\n",
              "</style>\n",
              "\n",
              "  <script>\n",
              "    async function quickchart(key) {\n",
              "      const quickchartButtonEl =\n",
              "        document.querySelector('#' + key + ' button');\n",
              "      quickchartButtonEl.disabled = true;  // To prevent multiple clicks.\n",
              "      quickchartButtonEl.classList.add('colab-df-spinner');\n",
              "      try {\n",
              "        const charts = await google.colab.kernel.invokeFunction(\n",
              "            'suggestCharts', [key], {});\n",
              "      } catch (error) {\n",
              "        console.error('Error during call to suggestCharts:', error);\n",
              "      }\n",
              "      quickchartButtonEl.classList.remove('colab-df-spinner');\n",
              "      quickchartButtonEl.classList.add('colab-df-quickchart-complete');\n",
              "    }\n",
              "    (() => {\n",
              "      let quickchartButtonEl =\n",
              "        document.querySelector('#df-7922f51d-4eef-4e57-9fb6-adcaf9393a8e button');\n",
              "      quickchartButtonEl.style.display =\n",
              "        google.colab.kernel.accessAllowed ? 'block' : 'none';\n",
              "    })();\n",
              "  </script>\n",
              "</div>\n",
              "\n",
              "    </div>\n",
              "  </div>\n"
            ],
            "application/vnd.google.colaboratory.intrinsic+json": {
              "type": "dataframe",
              "summary": "{\n  \"name\": \"regional_child_mortality_ascending_order\",\n  \"rows\": 194,\n  \"fields\": [\n    {\n      \"column\": \"Unnamed: 0\",\n      \"properties\": {\n        \"dtype\": \"number\",\n        \"std\": 56,\n        \"min\": 0,\n        \"max\": 193,\n        \"num_unique_values\": 194,\n        \"samples\": [\n          56,\n          111,\n          180\n        ],\n        \"semantic_type\": \"\",\n        \"description\": \"\"\n      }\n    },\n    {\n      \"column\": \"Country\",\n      \"properties\": {\n        \"dtype\": \"string\",\n        \"num_unique_values\": 194,\n        \"samples\": [\n          \"Eritrea\",\n          \"Monaco\",\n          \"Uganda\"\n        ],\n        \"semantic_type\": \"\",\n        \"description\": \"\"\n      }\n    },\n    {\n      \"column\": \"Region\",\n      \"properties\": {\n        \"dtype\": \"category\",\n        \"num_unique_values\": 6,\n        \"samples\": [\n          \"Europe\",\n          \"Western Pacific\",\n          \"Africa\"\n        ],\n        \"semantic_type\": \"\",\n        \"description\": \"\"\n      }\n    },\n    {\n      \"column\": \"Population\",\n      \"properties\": {\n        \"dtype\": \"number\",\n        \"std\": 137903,\n        \"min\": 1,\n        \"max\": 1390000,\n        \"num_unique_values\": 191,\n        \"samples\": [\n          36346,\n          1240,\n          37195\n        ],\n        \"semantic_type\": \"\",\n        \"description\": \"\"\n      }\n    },\n    {\n      \"column\": \"Under15\",\n      \"properties\": {\n        \"dtype\": \"number\",\n        \"std\": 10.534573319923823,\n        \"min\": 13.12,\n        \"max\": 49.99,\n        \"num_unique_values\": 179,\n        \"samples\": [\n          21.33,\n          15.25,\n          26.96\n        ],\n        \"semantic_type\": \"\",\n        \"description\": \"\"\n      }\n    },\n    {\n      \"column\": \"Over60\",\n      \"properties\": {\n        \"dtype\": \"number\",\n        \"std\": 7.149330524672752,\n        \"min\": 0.81,\n        \"max\": 31.92,\n        \"num_unique_values\": 174,\n        \"samples\": [\n          5.01,\n          5.76,\n          9.32\n        ],\n        \"semantic_type\": \"\",\n        \"description\": \"\"\n      }\n    },\n    {\n      \"column\": \"FertilityRate\",\n      \"properties\": {\n        \"dtype\": \"number\",\n        \"std\": 1.4381611131670489,\n        \"min\": 1.26,\n        \"max\": 7.58,\n        \"num_unique_values\": 144,\n        \"samples\": [\n          3.48,\n          1.4,\n          2.45\n        ],\n        \"semantic_type\": \"\",\n        \"description\": \"\"\n      }\n    },\n    {\n      \"column\": \"LifeExpectancy\",\n      \"properties\": {\n        \"dtype\": \"number\",\n        \"std\": 9,\n        \"min\": 47,\n        \"max\": 83,\n        \"num_unique_values\": 36,\n        \"samples\": [\n          47,\n          65,\n          56\n        ],\n        \"semantic_type\": \"\",\n        \"description\": \"\"\n      }\n    },\n    {\n      \"column\": \"ChildMortality\",\n      \"properties\": {\n        \"dtype\": \"number\",\n        \"std\": 37.99293531232757,\n        \"min\": 2.2,\n        \"max\": 181.6,\n        \"num_unique_values\": 170,\n        \"samples\": [\n          75.6,\n          7.1,\n          53.3\n        ],\n        \"semantic_type\": \"\",\n        \"description\": \"\"\n      }\n    },\n    {\n      \"column\": \"CellularSubscribers\",\n      \"properties\": {\n        \"dtype\": \"number\",\n        \"std\": 40.31363152861903,\n        \"min\": 2.57,\n        \"max\": 196.41,\n        \"num_unique_values\": 181,\n        \"samples\": [\n          108.41,\n          140.75,\n          49.17\n        ],\n        \"semantic_type\": \"\",\n        \"description\": \"\"\n      }\n    },\n    {\n      \"column\": \"LiteracyRate\",\n      \"properties\": {\n        \"dtype\": \"number\",\n        \"std\": 12.744397992059561,\n        \"min\": 31.1,\n        \"max\": 99.8,\n        \"num_unique_values\": 80,\n        \"samples\": [\n          98.5,\n          83.71,\n          99.6\n        ],\n        \"semantic_type\": \"\",\n        \"description\": \"\"\n      }\n    },\n    {\n      \"column\": \"GNI\",\n      \"properties\": {\n        \"dtype\": \"number\",\n        \"std\": 13876,\n        \"min\": 340,\n        \"max\": 86440,\n        \"num_unique_values\": 158,\n        \"samples\": [\n          870,\n          16330,\n          540\n        ],\n        \"semantic_type\": \"\",\n        \"description\": \"\"\n      }\n    },\n    {\n      \"column\": \"PrimarySchoolEnrollmentMale\",\n      \"properties\": {\n        \"dtype\": \"number\",\n        \"std\": 8.942178927174298,\n        \"min\": 37.2,\n        \"max\": 100.0,\n        \"num_unique_values\": 75,\n        \"samples\": [\n          99.7,\n          81.3,\n          97.0\n        ],\n        \"semantic_type\": \"\",\n        \"description\": \"\"\n      }\n    },\n    {\n      \"column\": \"PrimarySchoolEnrollmentFemale\",\n      \"properties\": {\n        \"dtype\": \"number\",\n        \"std\": 10.396531763515714,\n        \"min\": 32.5,\n        \"max\": 100.0,\n        \"num_unique_values\": 77,\n        \"samples\": [\n          97.3,\n          99.9,\n          98.5\n        ],\n        \"semantic_type\": \"\",\n        \"description\": \"\"\n      }\n    }\n  ]\n}"
            }
          },
          "metadata": {},
          "execution_count": 5
        }
      ]
    },
    {
      "cell_type": "markdown",
      "source": [
        "What is the life expectancy across different regions? Create a box-and-whisker plot to investigate this. What can we conclude about life expectancy across different regions?"
      ],
      "metadata": {
        "id": "6z0e0DtP_cSG"
      }
    },
    {
      "cell_type": "code",
      "source": [
        "import pandas as pd\n",
        "import matplotlib.pyplot as plt\n",
        "import seaborn as sns\n",
        "%matplotlib inline\n",
        "\n",
        "df = pd.read_csv (\"/content/health_and_demographics_df.csv\")\n",
        "\n",
        "df.boxplot(column=\"LifeExpectancy\", by= \"Region\")\n",
        "\n",
        "\n",
        "\n",
        "\n",
        "\n",
        "#All countries Regions with wealth higher than Africa have a higher life expectancy this could due to affordibility of medicine\n"
      ],
      "metadata": {
        "id": "ovdTg07MwkbS",
        "colab": {
          "base_uri": "https://localhost:8080/",
          "height": 495
        },
        "outputId": "9fb97f29-1e8e-4ee2-9b8b-44d5bcde2f40"
      },
      "execution_count": null,
      "outputs": [
        {
          "output_type": "execute_result",
          "data": {
            "text/plain": [
              "<Axes: title={'center': 'LifeExpectancy'}, xlabel='Region'>"
            ]
          },
          "metadata": {},
          "execution_count": 4
        },
        {
          "output_type": "display_data",
          "data": {
            "text/plain": [
              "<Figure size 640x480 with 1 Axes>"
            ],
            "image/png": "[encoded data removed]"
          },
          "metadata": {}
        }
      ]
    },
    {
      "cell_type": "markdown",
      "source": [
        "How is life expectancy related to wealth across different regions? How is wealth related to fertility across different regions? Create suitable graphs to demonstrate this. Do these relationships hold for African countries?"
      ],
      "metadata": {
        "id": "i-_DcFx8KblB"
      }
    },
    {
      "cell_type": "code",
      "source": [
        "#Observing from the graphs created above all regions above GNI 5000 have a life expectancy that above 65 but this trend changes when it comes to fertility the region with the lowest life expectancy and GNI has the highest fertility rate all the other regions have life expectancy below the average of 8."
      ],
      "metadata": {
        "id": "rIUu2eHa2FK4"
      },
      "execution_count": null,
      "outputs": []
    },
    {
      "cell_type": "markdown",
      "source": [
        "Create appropriate graphs to visually represent the relationship between literacy and life expectancy by region, and then for African countries. What can be concluded from the graphs? How confident can we be in the relationships represented here?"
      ],
      "metadata": {
        "id": "-_oyWFTwMRjx"
      }
    },
    {
      "cell_type": "code",
      "source": [
        "# Life expectancy for all regions except Africa is above 65 and the literacy rate are very high at 75% as for Africa the life expectancy is very low but A frica managed to compete fairly with literacy rate of 70#\n",
        "import pandas as pd\n",
        "import seaborn as sns\n",
        "import numpy as np\n",
        "\n",
        "df = pd.read_csv (\"/content/health_and_demographics_df.csv\")\n",
        "\n",
        "p = df.groupby(['Region'])['LiteracyRate'].mean('count')\n",
        "p.plot(y= 'LiteracyRate', kind='bar', legend= True, title= 'Literacy rate per region')\n",
        "exit()"
      ],
      "metadata": {
        "colab": {
          "base_uri": "https://localhost:8080/",
          "height": 617
        },
        "id": "7KVWyqRIMbHO",
        "outputId": "447489ab-944d-412b-a1c2-cf2d61e76244"
      },
      "execution_count": null,
      "outputs": [
        {
          "output_type": "display_data",
          "data": {
            "text/plain": [
              "<Figure size 640x480 with 1 Axes>"
            ],
            "image/png": "[encoded data removed]"
          },
          "metadata": {}
        }
      ]
    },
    {
      "cell_type": "code",
      "source": [
        "import pandas as pd\n",
        "import seaborn as sns\n",
        "import numpy as np\n",
        "\n",
        "df = pd.read_csv (\"/content/health_and_demographics_df.csv\")\n",
        "\n",
        "p = df.groupby(['Region'])['LifeExpectancy'].mean('count')\n",
        "p.plot(y= 'LifeExpectancy', kind='bar', legend= True, title= 'LifeExpectancy per region')"
      ],
      "metadata": {
        "colab": {
          "base_uri": "https://localhost:8080/",
          "height": 634
        },
        "id": "v_uYlx1PM2oF",
        "outputId": "715d5bca-b560-40b1-f2a3-1a46a7668cf7"
      },
      "execution_count": null,
      "outputs": [
        {
          "output_type": "execute_result",
          "data": {
            "text/plain": [
              "<Axes: title={'center': 'LifeExpectancy per region'}, xlabel='Region'>"
            ]
          },
          "metadata": {},
          "execution_count": 1
        },
        {
          "output_type": "display_data",
          "data": {
            "text/plain": [
              "<Figure size 640x480 with 1 Axes>"
            ],
            "image/png": "[encoded data removed]"
          },
          "metadata": {}
        }
      ]
    },
    {
      "cell_type": "markdown",
      "source": [
        "# **`Conclusion `**"
      ],
      "metadata": {
        "id": "ZoBL7lGdNhj0"
      }
    },
    {
      "cell_type": "markdown",
      "source": [],
      "metadata": {
        "id": "f8oNK179Nhc4"
      }
    },
    {
      "cell_type": "code",
      "source": [
        "# Looking at the graphs created above Africa has a different trend when it comes to Life expectancy,GNI and Literacy are below all the regions but this changed when it came to Fertility rate, all regions where low and Africa has the highest"
      ],
      "metadata": {
        "id": "V2QTBytjNpOv"
      },
      "execution_count": null,
      "outputs": []
    },
    {
      "cell_type": "code",
      "source": [
        "!echo \".ignoreme\" > .gitignore"
      ],
      "metadata": {
        "id": "CMFA194jadQB"
      },
      "execution_count": null,
      "outputs": []
    },
    {
      "cell_type": "code",
      "source": [
        "!pip freeze > requirements.txt\n",
        "!pip install session-info\n",
        "import session_info\n",
        "session_info.show"
      ],
      "metadata": {
        "colab": {
          "base_uri": "https://localhost:8080/",
          "height": 276
        },
        "id": "fNgTetWYRyoG",
        "outputId": "ffabc69e-d890-4c4b-b403-dd27b1d02ffb"
      },
      "execution_count": null,
      "outputs": [
        {
          "output_type": "stream",
          "name": "stdout",
          "text": [
            "Requirement already satisfied: session-info in /usr/local/lib/python3.10/dist-packages (1.0.0)\n",
            "Requirement already satisfied: stdlib-list in /usr/local/lib/python3.10/dist-packages (from session-info) (0.10.0)\n"
          ]
        },
        {
          "output_type": "execute_result",
          "data": {
            "text/plain": [
              "<function session_info.main.show(na=True, os=True, cpu=False, jupyter=None, dependencies=None, std_lib=False, private=False, write_req_file=False, req_file_name=None, html=None, excludes=['builtins', 'stdlib_list'])>"
            ],
            "text/html": [
              "<div style=\"max-width:800px; border: 1px solid var(--colab-border-color);\"><style>\n",
              "      pre.function-repr-contents {\n",
              "        overflow-x: auto;\n",
              "        padding: 8px 12px;\n",
              "        max-height: 500px;\n",
              "      }\n",
              "\n",
              "      pre.function-repr-contents.function-repr-contents-collapsed {\n",
              "        cursor: pointer;\n",
              "        max-height: 100px;\n",
              "      }\n",
              "    </style>\n",
              "    <pre style=\"white-space: initial; background:\n",
              "         var(--colab-secondary-surface-color); padding: 8px 12px;\n",
              "         border-bottom: 1px solid var(--colab-border-color);\"><b>session_info.main.show</b><br/>def show(na=True, os=True, cpu=False, jupyter=None, dependencies=None, std_lib=False, private=False, write_req_file=False, req_file_name=None, html=None, excludes=[&#x27;builtins&#x27;, &#x27;stdlib_list&#x27;])</pre><pre class=\"function-repr-contents function-repr-contents-collapsed\" style=\"\"><a class=\"filepath\" style=\"display:none\" href=\"#\">/usr/local/lib/python3.10/dist-packages/session_info/main.py</a>Show version information for loaded modules in the current session,\n",
              "Python, and the OS.\n",
              "\n",
              "Parameters\n",
              "----------\n",
              "na : bool\n",
              "    Show module name even when no version number is found.\n",
              "os : bool\n",
              "    Show OS information.\n",
              "cpu : bool\n",
              "    Show number of logical CPU cores and info string (if available).\n",
              "jupyter : bool\n",
              "    Show information about the jupyter environment. If `None`, output\n",
              "    jupyter info only if inside a Jupyter notebook.\n",
              "dependencies : bool\n",
              "    Show information about modules imported by the Python interpreter on\n",
              "    startup and depency modules imported via other modules. If `None`,\n",
              "    dependency modules will be included in the HTML output under a\n",
              "    &lt;details&gt; tag, and excluded from the printed output. Setting `na` to\n",
              "    `False` could be helpful to reduce verboseness.\n",
              "std_lib : bool\n",
              "    Show information for modules imported from the standard library.\n",
              "    Tries to detect the Python version to compare with the corresponding\n",
              "    standard libarary, falls back to Python 3.7 if the version cannot be\n",
              "    detected.\n",
              "private : bool\n",
              "    Show information for private modules.\n",
              "write_req_file: bool\n",
              "    Create a pip-compatible text file that lists all the module versions.\n",
              "    If `None`, write dependency files for Jupyter notebooks only. If the\n",
              "    `notebook` module is installed, `session_info` can automatically find the\n",
              "    notebook name use it as a prefix for the requirments file. Otherwise\n",
              "    it falls back to `session_info-requirements.txt`.\n",
              "    This only writes explicitly imported modules.\n",
              "req_file_name : str\n",
              "    Change the name of the requirements file.\n",
              "html: bool\n",
              "    Format the output as HTML and collapse it in a &lt;details&gt; tag. If `None`,\n",
              "    HTML will be used only if a Jupyter notebook environment is detected.\n",
              "    Note that this will not be visible in notebooks shared on GitHub since\n",
              "    they seemingly do not support the &lt;details&gt; tag. Requires IPython.\n",
              "excludes : list\n",
              "    Do not show version information for these modules.</pre>\n",
              "      <script>\n",
              "      if (google.colab.kernel.accessAllowed && google.colab.files && google.colab.files.view) {\n",
              "        for (const element of document.querySelectorAll('.filepath')) {\n",
              "          element.style.display = 'block'\n",
              "          element.onclick = (event) => {\n",
              "            event.preventDefault();\n",
              "            event.stopPropagation();\n",
              "            google.colab.files.view(element.textContent, 94);\n",
              "          };\n",
              "        }\n",
              "      }\n",
              "      for (const element of document.querySelectorAll('.function-repr-contents')) {\n",
              "        element.onclick = (event) => {\n",
              "          event.preventDefault();\n",
              "          event.stopPropagation();\n",
              "          element.classList.toggle('function-repr-contents-collapsed');\n",
              "        };\n",
              "      }\n",
              "      </script>\n",
              "      </div>"
            ]
          },
          "metadata": {},
          "execution_count": 6
        }
      ]
    }
  ]
}